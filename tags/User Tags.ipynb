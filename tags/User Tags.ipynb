{
 "cells": [
  {
   "cell_type": "code",
   "execution_count": 15,
   "metadata": {
    "collapsed": true
   },
   "outputs": [],
   "source": [
    "import os\n",
    "import json\n",
    "import datetime\n",
    "import pprint\n",
    "import math\n",
    "\n",
    "API_KEY = \"0f60efd9302d38f88380c6a4608bd9be\"\n",
    "\n",
    "dir_weather \t= \"../dataset/weather\"\n",
    "file_business \t= \"../dataset/yelp_academic_dataset_business.json\"\n",
    "file_users\t\t= \"../dataset/yelp_academic_dataset_user.json\"\n",
    "file_reviews \t= \"../dataset/yelp_academic_dataset_review.json\"\n",
    "file_users_centroid\t= \"../dataset/user-centroid.json\"\n",
    "file_users_reviews = \"../dataset/user-location.json\"\n",
    "\n",
    "file_feature_name = \"feature-climate.data\"\n",
    "\n",
    "_business = {}\n",
    "_userLocations = {}\n",
    "_userReviews = {}\n",
    "_weather = {}"
   ]
  },
  {
   "cell_type": "code",
   "execution_count": 16,
   "metadata": {
    "collapsed": true
   },
   "outputs": [],
   "source": [
    "def loadWeather():\n",
    "\tf = os.listdir(dir_weather)\n",
    "\tc = 0\n",
    "\tfor l in f:\n",
    "\t\tif (l == '.DS_Store'):\n",
    "\t\t\tcontinue\n",
    "\t\t\n",
    "\t\tfolder = dir_weather + '/' + l\n",
    "\t\tfiles = os.listdir(folder)\n",
    "\t\tfor f in files:\n",
    "\t\t\tif (f == '.DS_Store'):\n",
    "\t\t\t\tcontinue\n",
    "\t\t\tfo = open(folder + '/' + f)\n",
    "\t\t\tfor i in fo:\n",
    "\t\t\t\ttry:\n",
    "\t\t\t\t\tj = json.loads(i)\n",
    "\t\t\t\texcept Exception, e:\n",
    "\t\t\t\t\tprint f\n",
    "\t\t\t\t\traise\n",
    "\n",
    "\t\t\t\tdata = j['daily']['data'][0]\n",
    "\t\t\t\td2 = datetime.datetime.utcfromtimestamp(int(data['time']))\n",
    "\t\t\t\tw = l + '-' + d2.strftime('%Y-%m-%d')\n",
    "\n",
    "\t\t\t\ttry:\n",
    "\t\t\t\t\t_weather[w.lower()] = '%s temperatureMin:%f temperatureMax:%f' % (data['icon'], data['temperatureMin'], data['temperatureMax'])\n",
    "\t\t\t\texcept Exception, e:\n",
    "\t\t\t\t\tprint 'Local: %s - Data: %s' % (l, d2.strftime('%d/%m/%Y %H:%M:%S %Z'))\n",
    "\t\t\t\t\t# if (datetime.datetime.now() >= d2):\n",
    "\t\t\t\t\t# \tprint json.dumps(j)\n",
    "\t\t\t\t\t# \traise\t\t\t\t"
   ]
  },
  {
   "cell_type": "code",
   "execution_count": 17,
   "metadata": {
    "collapsed": true
   },
   "outputs": [],
   "source": [
    "def loadUserReviews():\n",
    "\tglobal _userReviews\n",
    "\t_userReviews = {}\n",
    "\n",
    "\tf = open(file_users_reviews)\n",
    "\t_userReviews = json.load(f)\n",
    "\txr = {}\n",
    "\tc = 0\n",
    "\tfor k in _userReviews.keys():\n",
    "\t\tc += 1\n",
    "\t\tu = _userReviews[k]\n",
    "\t\tb = []\n",
    "\t\tfor r in u['reviews']:\n",
    "\t\t\tbid = r['business_id']\n",
    "\t\t\tb.append(bid)\n",
    "\n",
    "\t\tqtd = len(list(set(b)))\n",
    "\t\tq = 0\n",
    "\t\tif (qtd in xr):\n",
    "\t\t\tq = xr[qtd] + 1\n",
    "\t\telse:\n",
    "\t\t\tq = 1\n",
    "\n",
    "\t\txr[qtd] = q\n",
    "\tpprint.pprint(xr)\n",
    "\tprint 'total: %d' % c"
   ]
  },
  {
   "cell_type": "code",
   "execution_count": 18,
   "metadata": {
    "collapsed": true
   },
   "outputs": [],
   "source": [
    "def getUserLocations():\n",
    "\tglobal _userLocations\n",
    "\t_userLocations = {}\n",
    "\n",
    "\tf = open(file_users_centroid)\n",
    "\tfor line in f:\n",
    "\t\tj = json.loads(line)\t\n",
    "\t\tu = {}\n",
    "\t\tu['lat'] = j['lat']\n",
    "\t\tu['lng'] = j['lng']\n",
    "\t\t_userLocations[j['user_id']] = u\t\n",
    "\n",
    "def getUserAttributes():\n",
    "\tf = open(file_users)\n",
    "\txr = {}\n",
    "\tfor line in f:\n",
    "\t\tj = json.loads(line)\n",
    "\t\t#xr[j['user_id']] = 'user_id__%s average_stars:%s review_counts:%s' % (j['user_id'], str(j['average_stars']), str(j['review_count']))\n",
    "\t\txr[j['user_id']] = 'average_stars:%s review_counts:%s' % (str(j['average_stars']), str(j['review_count']))\n",
    "\n",
    "\tf.close()\n",
    "\n",
    "\treturn xr"
   ]
  },
  {
   "cell_type": "code",
   "execution_count": 19,
   "metadata": {
    "collapsed": true
   },
   "outputs": [],
   "source": [
    "#Item attributes\n",
    "def getBusinessAttributes():\n",
    "\tglobal _business\n",
    "\t_business = {}\n",
    "\n",
    "\tf = open(file_business)\n",
    "\txr = {}\n",
    "\tfor line in f:\n",
    "\t\tj = json.loads(line)\n",
    "\t\t_business[j['business_id']] = j\n",
    "\n",
    "\t\tcat = ' '.join(getCategories(j['categories']))\n",
    "\t\tattr = ' '.join(getAttributes(j['attributes'], None))\n",
    "\t\t#xr[j['business_id']] = 'business_id__%s open:%d stars:%d %s %s' % (j['business_id'], int(j['open']), j['stars'], cat.lower(), attr.lower())\n",
    "\t\txr[j['business_id'] + '-attr'] = 'stars:%d %s' % (j['stars'], attr.lower())\n",
    "\t\txr[j['business_id'] + '-cat'] = cat.lower()\t\t\n",
    "\t\n",
    "\tf.close()\n",
    "\n",
    "\treturn xr"
   ]
  },
  {
   "cell_type": "code",
   "execution_count": 20,
   "metadata": {
    "collapsed": true
   },
   "outputs": [],
   "source": [
    "#Item categories\n",
    "def getCategories(attr):\n",
    "\tresult = []\n",
    "\tfor k in attr:\n",
    "\t\tresult.append(k.replace(\" \", \"-\"))\n",
    "\t\n",
    "\treturn result\n",
    "\n",
    "#Item attributes\n",
    "def getAttributes(attrs, attr): \n",
    "\tresult = []\n",
    "\tfor a in attrs:\n",
    "\t\tkey = a\n",
    "\t\tvalue = attrs[a]\n",
    "\t\tif (type(value) is dict):\n",
    "\t\t\tresult.extend(getAttributes(value, key))\n",
    "\t\telse:\n",
    "\t\t\tif (attr is not None):\n",
    "\t\t\t\tkey = attr + '_' + key\n",
    "\n",
    "\t\t\tv = value\n",
    "\t\t\tif (type(value) is unicode):\n",
    "\t\t\t\tvalue = key + '__' + v\n",
    "\t\t\telif(type(value) is bool):\n",
    "\t\t\t\tv = str(int(attrs[a]))\n",
    "\t\t\t\tvalue = key + ':' + v\n",
    "\t\t\telse:\n",
    "\t\t\t\tvalue = key + ':' + str(v)\n",
    "\t\t\t\n",
    "\t\t\tvalue = value.replace(\" \", \"-\")\n",
    "\t\t\tresult.append(value)\n",
    "\treturn result"
   ]
  },
  {
   "cell_type": "code",
   "execution_count": 21,
   "metadata": {
    "collapsed": true
   },
   "outputs": [],
   "source": [
    "#Context attributes\n",
    "def getContextAttributes(review):\n",
    "\t#temporal\n",
    "\ttemporal = getTemporalAttributes(review)\n",
    "\n",
    "\t#weather\n",
    "\tweather = getWeatherAttributes(review)\n",
    "\t\n",
    "\t#distance\n",
    "\tdistance = getDistanceAttributes(review['business_id'], review['user_id'])\n",
    "\n",
    "\tattributes = '%s %s %s' % (temporal, distance, weather)\n",
    "\treturn attributes.lower()\n",
    "\n",
    "def getTemporalAttributes(review):\n",
    "\tdate = datetime.datetime.strptime(review['date'], '%Y-%m-%d')\n",
    "\tdayofweek = date.strftime('%A').lower()\n",
    "\tweekday = int((date.isoweekday() < 6))\n",
    "\tweekend = int((date.isoweekday() >= 6))\n",
    "\tmonth = date.strftime('%B').lower()\n",
    "\tseason = getSeason(date, 'north')\n",
    "\t\n",
    "\tcontext = '%s weekday:%d weekend:%d %s %s %s' % (dayofweek, weekday, weekend, month, season, review['date'])\n",
    "\treturn context"
   ]
  },
  {
   "cell_type": "code",
   "execution_count": 22,
   "metadata": {
    "collapsed": true
   },
   "outputs": [],
   "source": [
    "_city = []\n",
    "def getWeatherAttributes(review):\n",
    "\tb = _business[review['business_id']]\n",
    "\tname = b['city']\n",
    "\tname = name.strip()\n",
    "\t\n",
    "\tweatherName = name + '-' + review['date']\n",
    "\tweatherName = weatherName.replace('\"', '').lower()\n",
    "\n",
    "\tv = 'nothing'\n",
    "\ttry:\n",
    "\t\tv = _weather[weatherName]\t\t\n",
    "\texcept Exception, e:\n",
    "\t\tif ('las vegas' in weatherName):\n",
    "\t\t\tweatherName = 'las vegas' + '-' + review['date']\n",
    "\t\t\tv = _weather[weatherName]\n",
    "\t\telse:\n",
    "\t\t\tprint 'error'\n",
    "\t\t\tv = 'not-found'\n",
    "\t\t\t_city.append(weatherName)\n",
    "\tfinally:\n",
    "\t\treturn v"
   ]
  },
  {
   "cell_type": "code",
   "execution_count": 23,
   "metadata": {
    "collapsed": true
   },
   "outputs": [],
   "source": [
    "def getSeason(date, hemisphere):\n",
    "\tmd = date.month * 100 + date.day\n",
    "\n",
    "\tif ((md > 320) and (md < 621)):\n",
    "\t    s = 0 #spring\n",
    "\telif ((md > 620) and (md < 923)):\n",
    "\t    s = 1 #summer\n",
    "\telif ((md > 922) and (md < 1223)):\n",
    "\t    s = 2 #fall\n",
    "\telse:\n",
    "\t    s = 3 #winter\n",
    "\n",
    "\tif not hemisphere == 'north':\n",
    "\t    s = (s + 2) % 3\n",
    "\n",
    "\n",
    "\tif (s == 0):\n",
    "\t\treturn 'spring'\n",
    "\telif (s == 1):\n",
    "\t\treturn 'summer'\n",
    "\telif (s == 2):\n",
    "\t\treturn 'fall'\n",
    "\telse:\n",
    "\t\treturn 'winter'"
   ]
  },
  {
   "cell_type": "code",
   "execution_count": 24,
   "metadata": {
    "collapsed": true
   },
   "outputs": [],
   "source": [
    "def getDistanceAttributes(business, user):\n",
    "\t\n",
    "\tlat1 = _userLocations[user]['lat']\n",
    "\tlng1 = _userLocations[user]['lng']\n",
    "\tlat2 = _business[business]['latitude']\n",
    "\tlng2 = _business[business]['longitude']\n",
    "\tdistance = distance_on_unit_sphere(lat1, lng1, lat2, lng2)\n",
    "\t\n",
    "\tkm = distance / 1000\t\n",
    "\tif (km <= 5):\n",
    "\t\treturn 'near'\n",
    "\telif (km > 5 and km <= 20):\n",
    "\t\treturn 'medium'\n",
    "\telse:\n",
    "\t\treturn 'far'\n",
    "\t"
   ]
  },
  {
   "cell_type": "code",
   "execution_count": 25,
   "metadata": {
    "collapsed": true
   },
   "outputs": [],
   "source": [
    "def feq(a,b):\n",
    "    if abs(a-b)<0.00000001:\n",
    "        return 1\n",
    "    else:\n",
    "        return 0\n",
    "\n",
    "def distance_on_unit_sphere(lat1, long1, lat2, long2):\n",
    "\t\n",
    "    try:\t\t\n",
    "\t    if (feq(lat1, lat2) and feq(long1, long2)):\n",
    "\t    \treturn 0\n",
    "\n",
    "\t    # Convert latitude and longitude to \n",
    "\t    # spherical coordinates in radians.\n",
    "\t    degrees_to_radians = math.pi/180.0\n",
    "\n",
    "\t    # phi = 90 - latitude\n",
    "\t    phi1 = (90.0 - lat1)*degrees_to_radians\n",
    "\t    phi2 = (90.0 - lat2)*degrees_to_radians\n",
    "\t        \n",
    "\t    # theta = longitude\n",
    "\t    theta1 = long1*degrees_to_radians\n",
    "\t    theta2 = long2*degrees_to_radians\n",
    "\t        \n",
    "\t    # Compute spherical distance from spherical coordinates.\n",
    "\t        \n",
    "\t    # For two locations in spherical coordinates \n",
    "\t    # (1, theta, phi) and (1, theta, phi)\n",
    "\t    # cosine( arc length ) = \n",
    "\t    #    sin phi sin phi' cos(theta-theta') + cos phi cos phi'\n",
    "\t    # distance = rho * arc length\n",
    "\t    \n",
    "\t    cos = (math.sin(phi1)*math.sin(phi2)*math.cos(theta1 - theta2) + \n",
    "\t           math.cos(phi1)*math.cos(phi2))\n",
    "\n",
    "\t    arc = math.acos( cos )\n",
    "\n",
    "\t    # Remember to multiply arc by the radius of the earth \n",
    "\t    # in your favorite set of units to get length.\n",
    "\n",
    "\n",
    "\t    distance  = math.degrees(arc) # in degrees\n",
    "\t    distance  = distance * 60 # 60 nautical miles / lat degree\n",
    "\t    distance = distance * 1852 # conversion to meters\n",
    "\t    distance  = round(distance)\n",
    "\t    return distance\n",
    "\n",
    "    except:\n",
    "    \tprint 'lat1: %f lng1: %f | lat2: %f lng2: %f' % (lat1, long1, lat2, long2)\n",
    "    \traise"
   ]
  },
  {
   "cell_type": "code",
   "execution_count": 217,
   "metadata": {
    "collapsed": false
   },
   "outputs": [
    {
     "name": "stdout",
     "output_type": "stream",
     "text": [
      "reading users\n",
      "Local: City of Edinburgh - Data: 16/11/2014 00:00:00 \n",
      "Local: Dalkeith - Data: 18/11/2014 00:00:00 \n",
      "Local: Edinburgh - Data: 16/11/2014 00:00:00 \n",
      "Local: Inverkeithing - Data: 16/11/2014 00:00:00 \n",
      "Local: Las Vegas - Data: 31/12/2005 05:00:00 \n",
      "Local: Las Vegas East - Data: 31/12/2005 05:00:00 \n",
      "Local: Newberry Springs - Data: 21/10/2004 07:00:00 \n",
      "Local: Penicuik - Data: 19/11/2014 00:00:00 \n",
      "Local: Ratho - Data: 21/11/2014 00:00:00 \n",
      "Local: Saint Jacobs - Data: 21/11/2014 05:00:00 \n",
      "Local: South Las Vegas - Data: 31/12/2005 05:00:00 \n",
      "Local: St Clements - Data: 17/11/2014 05:00:00 \n"
     ]
    }
   ],
   "source": [
    "print 'reading users'\n",
    "users = getUserAttributes()\n",
    "getUserLocations()\n",
    "items = getBusinessAttributes()\n",
    "loadWeather()"
   ]
  },
  {
   "cell_type": "code",
   "execution_count": 250,
   "metadata": {
    "collapsed": false
   },
   "outputs": [
    {
     "name": "stdout",
     "output_type": "stream",
     "text": [
      "error\n",
      "error\n",
      "error\n",
      "error\n",
      "error\n",
      "error\n",
      "error\n",
      "error\n",
      "error\n",
      "error\n",
      "error\n",
      "error\n",
      "error\n",
      "error\n",
      "user_tags carregado\n"
     ]
    }
   ],
   "source": [
    "user_tags = {}\n",
    "\n",
    "f = open(file_reviews)\n",
    "i = 0\n",
    "for line in f:\n",
    "    item = json.loads(line)\n",
    "    date = datetime.datetime.strptime(item['date'], '%Y-%m-%d')\n",
    "    if date.year >= 2013:       \n",
    "        user_id = item['user_id']\n",
    "        item_id = item['business_id']\n",
    "        review_id = item['review_id']\n",
    "        \n",
    "        if user_id not in user_tags:\n",
    "            user_tags[user_id] = {}\n",
    "            user_tags[user_id]['categories'] = {}\n",
    "            user_tags[user_id]['attributes'] = {}\n",
    "            user_tags[user_id]['distances'] = {}\n",
    "            user_tags[user_id]['weather'] = {}\n",
    "            user_tags[user_id]['count'] = 1\n",
    "        else:\n",
    "            user_tags[user_id]['count'] += 1\n",
    "\n",
    "        #distances\n",
    "        distance = getDistanceAttributes(item_id, user_id)\n",
    "        distante = distance.lower()\n",
    "        \n",
    "        if distance not in user_tags[user_id]['distances']:\n",
    "            user_tags[user_id]['distances'][distance] = 1\n",
    "        else:\n",
    "            user_tags[user_id]['distances'][distance] += 1\n",
    "        \n",
    "        #weather\n",
    "        weather = getWeatherAttributes(item)\n",
    "        weather = weather.lower()\n",
    "        if \" \" in weather:            \n",
    "            weather = weather[:weather.index(\" \")].strip()\n",
    "            if weather not in user_tags[user_id]['weather']:\n",
    "                user_tags[user_id]['weather'][weather] = 1\n",
    "            else:\n",
    "                user_tags[user_id]['weather'][weather] += 1\n",
    "        \n",
    "        #attributes\n",
    "        nItemAttr = items[item_id + '-attr']\n",
    "        nItemAttr = nItemAttr[8:].split(' ')\n",
    "        \n",
    "        for attr in nItemAttr:\n",
    "            attr_split = attr.split(':')\n",
    "            if attr_split[0] == 'price-range':\n",
    "                attr_split[0] = attr_split[0] + '_' + attr_split[1]\n",
    "                \n",
    "            if len(attr_split) > 1 and int(attr_split[1]) >= 1:\n",
    "                if attr_split[0] not in user_tags[user_id]['attributes']:\n",
    "                    user_tags[user_id]['attributes'][attr_split[0]] = 1\n",
    "                else:\n",
    "                    user_tags[user_id]['attributes'][attr_split[0]] += 1\n",
    "\n",
    "        #categories\n",
    "        nItemCat = items[item_id + '-cat']\n",
    "        nItemCat = nItemCat.split(' ')\n",
    "        for cat in nItemCat:\n",
    "            if cat not in user_tags[user_id]['categories']:\n",
    "                user_tags[user_id]['categories'][cat] = 1\n",
    "            else:\n",
    "                user_tags[user_id]['categories'][cat] += 1\n",
    "\n",
    "print 'user_tags carregado'"
   ]
  },
  {
   "cell_type": "code",
   "execution_count": 251,
   "metadata": {
    "collapsed": false
   },
   "outputs": [
    {
     "name": "stdout",
     "output_type": "stream",
     "text": [
      "arquivo gerado\n"
     ]
    }
   ],
   "source": [
    "fw = open('user-tags.data', 'w')\n",
    "for ut in user_tags:\n",
    "    if user_tags[ut]['count'] >= 4:\n",
    "        fw.write('%s %s\\n' % (ut, json.dumps(user_tags[ut])))\n",
    "fw.close()\n",
    "print 'arquivo gerado'\n"
   ]
  },
  {
   "cell_type": "code",
   "execution_count": 252,
   "metadata": {
    "collapsed": false,
    "scrolled": true
   },
   "outputs": [
    {
     "name": "stdout",
     "output_type": "stream",
     "text": [
      "files generated by user\n"
     ]
    }
   ],
   "source": [
    "import json\n",
    "f = open('user-tags.data')\n",
    "max_tags = 0\n",
    "reviews_count = 0\n",
    "max_tags_id = ''\n",
    "line = ''\n",
    "attrs = []\n",
    "for u in f:\n",
    "    uid = u[:u.index(' {')].strip()    \n",
    "    attr = u[u.index('{'):]\n",
    "    item = json.loads(attr)    \n",
    "    tags = len(item['attributes'].keys()) + len(item['categories'].keys())\n",
    "    fw = open('user-tags/' + uid + '.txt', 'w')\n",
    " \n",
    "    for a in item['attributes']:\n",
    "        attr = a.replace('_', ' ').replace('-', ' ')\n",
    "        fw.write('{text: \"%s\", weight: %d}\\n' % (attr, item['attributes'][a]))\n",
    "\n",
    "    for d in item['distances']:\n",
    "        fw.write('{text: \"distance-%s\", weight: %d}\\n' % (d, item['distances'][d]))\n",
    "        \n",
    "    for w in item['weather']:\n",
    "        fw.write('{text: \"%s\", weight: %d}\\n' % (w, item['weather'][w]))\n",
    "\n",
    "    for c in item['categories']:\n",
    "        cat = c.replace('_', ' ').replace('-', ' ')\n",
    "        fw.write('{text: \"%s\", weight: %d}\\n' % (cat, 2*item['categories'][c]))\n",
    "        \n",
    "    fw.close()\n",
    "\n",
    "f.close()\n",
    "print 'files generated by user'"
   ]
  }
 ],
 "metadata": {
  "kernelspec": {
   "display_name": "Python 2",
   "language": "python",
   "name": "python2"
  },
  "language_info": {
   "codemirror_mode": {
    "name": "ipython",
    "version": 2
   },
   "file_extension": ".py",
   "mimetype": "text/x-python",
   "name": "python",
   "nbconvert_exporter": "python",
   "pygments_lexer": "ipython2",
   "version": "2.7.10"
  }
 },
 "nbformat": 4,
 "nbformat_minor": 0
}
